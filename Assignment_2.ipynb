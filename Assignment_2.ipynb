{
  "nbformat": 4,
  "nbformat_minor": 0,
  "metadata": {
    "colab": {
      "name": "Assignment-2.ipynb",
      "provenance": [],
      "collapsed_sections": [],
      "include_colab_link": true
    },
    "kernelspec": {
      "name": "python3",
      "display_name": "Python 3"
    },
    "language_info": {
      "name": "python"
    }
  },
  "cells": [
    {
      "cell_type": "markdown",
      "metadata": {
        "id": "view-in-github",
        "colab_type": "text"
      },
      "source": [
        "<a href=\"https://colab.research.google.com/github/jyotinain/UNP-Assignments/blob/main/Assignment_2.ipynb\" target=\"_parent\"><img src=\"https://colab.research.google.com/assets/colab-badge.svg\" alt=\"Open In Colab\"/></a>"
      ]
    },
    {
      "cell_type": "markdown",
      "source": [
        "This is your assignment on conditional statement and looping"
      ],
      "metadata": {
        "id": "RWGPvgMGhZo5"
      }
    },
    {
      "cell_type": "markdown",
      "source": [
        "**Problem-1**<br>\n",
        "Write a small program to check a number is divisible by 7 or not"
      ],
      "metadata": {
        "id": "IKuXztS-h62c"
      }
    },
    {
      "cell_type": "code",
      "source": [
        "# Your code goes here\n",
        "Num =int(input('Enter any Number'))\n",
        "\n",
        "if Num%7==0:\n",
        "  print('The Number is Divisible by 7')\n",
        "else:\n",
        "  print('The Number is not Divisible by 7')\n"
      ],
      "metadata": {
        "id": "tmLkoOqthcy-",
        "colab": {
          "base_uri": "https://localhost:8080/"
        },
        "outputId": "74057c47-0c8d-479b-cec5-9e8bdd4399d7"
      },
      "execution_count": 1,
      "outputs": [
        {
          "output_type": "stream",
          "name": "stdout",
          "text": [
            "Enter any Number3\n",
            "The Number is not Divisible by 7\n"
          ]
        }
      ]
    },
    {
      "cell_type": "markdown",
      "source": [
        "**Problem-2**<br>\n",
        "If a number is divisible by either 5 or 7, then we will call it a 'five-or-seven' number.<br> \n",
        "Write down a program to check if a number is 'five-or-seven' number or not."
      ],
      "metadata": {
        "id": "aKEBothyhZy8"
      }
    },
    {
      "cell_type": "code",
      "source": [
        "# Your code goes here\n",
        "num =int(input('Enter any Number'))\n",
        "\n",
        "if num%7==0 or num%5==0:\n",
        "  print('The Number is Divisible by 7 or 5')\n",
        "else:\n",
        "  print('The Number is not Divisible by 7 or 5')"
      ],
      "metadata": {
        "id": "Vv-j3UR9hd1-",
        "colab": {
          "base_uri": "https://localhost:8080/"
        },
        "outputId": "f04ec97e-9e4f-4305-d797-27a580002746"
      },
      "execution_count": 3,
      "outputs": [
        {
          "output_type": "stream",
          "name": "stdout",
          "text": [
            "Enter any Number35\n",
            "The Number is Divisible by 7 or 5\n"
          ]
        }
      ]
    },
    {
      "cell_type": "markdown",
      "source": [
        "**Problem-3**<br>\n",
        "Write a program to calculate the electricity bill (accept number of unit from user) according to the following criteria:<br>  \n",
        "Upto first 100 units Rs. 3 per unit.<br>\n",
        "Next 100 units Rs. 5 per unit.<br>\n",
        "Next 300 units Rs. 7 per unit.<br>\n",
        "Above that, for each unit exceeding 500, Rs. 10 per unit flat.<br>"
      ],
      "metadata": {
        "id": "Y9KxqFjxl2zt"
      }
    },
    {
      "cell_type": "code",
      "source": [
        "# Your code goes here\n",
        "no_of_units = int(input('Enter number of units consumed'))\n",
        "\n",
        "if no_of_units<100:\n",
        "  cost = 3*no_of_units\n",
        "elif no_of_units>=100 and no_of_units<300:\n",
        "  cost = 5*no_of_units\n",
        "elif no_of_units>=300 and no_of_units<500:\n",
        "  cost = 7*no_of_units\n",
        "else:\n",
        "  cost = 10*no_of_units\n",
        "\n",
        "print('The Total Cost is', cost)\n"
      ],
      "metadata": {
        "id": "f_xfH-gSnRvI",
        "colab": {
          "base_uri": "https://localhost:8080/"
        },
        "outputId": "6eebb9ea-4100-4a77-fc0a-b532461621c6"
      },
      "execution_count": 4,
      "outputs": [
        {
          "output_type": "stream",
          "name": "stdout",
          "text": [
            "Enter number of units consumed500\n",
            "The Total Cost is 5000\n"
          ]
        }
      ]
    },
    {
      "cell_type": "markdown",
      "source": [
        "**Problem-4**<br>\n",
        "Find out sum of square of all the numbers upto 10, starting from 1"
      ],
      "metadata": {
        "id": "rLNw2lAwhZ8q"
      }
    },
    {
      "cell_type": "code",
      "source": [
        "# Your code goes here\n",
        "sum=0\n",
        "for i in range(1,11):\n",
        "  sum = sum + (i*i)\n",
        "\n",
        "print('', sum)\n"
      ],
      "metadata": {
        "id": "8kgqZ_x-heuw",
        "colab": {
          "base_uri": "https://localhost:8080/"
        },
        "outputId": "576e0274-4e11-4eab-fc92-78a9829f1695"
      },
      "execution_count": 5,
      "outputs": [
        {
          "output_type": "stream",
          "name": "stdout",
          "text": [
            " 385\n"
          ]
        }
      ]
    },
    {
      "cell_type": "markdown",
      "source": [
        "**Problem-5**<br>\n",
        "Find out sum of square of all the even numbers upto 10, starting from 1"
      ],
      "metadata": {
        "id": "Y-MCE0x9haiN"
      }
    },
    {
      "cell_type": "code",
      "source": [
        "# Your code goes here\n",
        "sum=0\n",
        "for i in range(1,11):\n",
        "  if i%2==0:\n",
        "    sum = sum + (i*i)\n",
        "  else:\n",
        "    continue\n",
        "print('', sum)"
      ],
      "metadata": {
        "id": "Ki_-j4Dphfkd",
        "colab": {
          "base_uri": "https://localhost:8080/"
        },
        "outputId": "b5305456-2370-4572-baf9-7aec91ae7594"
      },
      "execution_count": 6,
      "outputs": [
        {
          "output_type": "stream",
          "name": "stdout",
          "text": [
            " 220\n"
          ]
        }
      ]
    },
    {
      "cell_type": "markdown",
      "source": [
        "**Problem-6**<br>\n",
        "Check a number is prime or not"
      ],
      "metadata": {
        "id": "Sxp-egxiha1L"
      }
    },
    {
      "cell_type": "code",
      "source": [
        "# Your code goes here\n",
        "num = int(input(\"Enter any number: \"))\n",
        "\n",
        "if num > 1:\n",
        "    for i in range(2, num):\n",
        "        if (num % i) == 0:\n",
        "            print(num, \"is not a prime number\")\n",
        "            break\n",
        "    else:\n",
        "        print(num, \"is a prime number\")\n",
        "else:\n",
        "    print(num, \"is not a prime number\")"
      ],
      "metadata": {
        "id": "IoGNy2aMhgop",
        "colab": {
          "base_uri": "https://localhost:8080/"
        },
        "outputId": "28eb5104-091f-4816-afb0-959e588ea79e"
      },
      "execution_count": 7,
      "outputs": [
        {
          "output_type": "stream",
          "name": "stdout",
          "text": [
            "Enter any number: 11\n",
            "11 is a prime number\n"
          ]
        }
      ]
    },
    {
      "cell_type": "markdown",
      "source": [
        "**Problem-7**<br>\n",
        "Print multiplication table upto 10 starting from 1"
      ],
      "metadata": {
        "id": "ntLKcA1hha44"
      }
    },
    {
      "cell_type": "code",
      "source": [
        "# Your code goes here\n",
        "for i in range(1,11):\n",
        "  for j in range(1,11):\n",
        "    product = j*i\n",
        "    print(i, '*', j, '=',product)\n",
        "    print('\\t')\n",
        "print('\\n')\n"
      ],
      "metadata": {
        "id": "U5LmrwFmhiE3",
        "colab": {
          "base_uri": "https://localhost:8080/"
        },
        "outputId": "62094991-1b38-4ea9-9ac6-5c68ab3a3bfa"
      },
      "execution_count": 8,
      "outputs": [
        {
          "output_type": "stream",
          "name": "stdout",
          "text": [
            "1 * 1 = 1\n",
            "\t\n",
            "1 * 2 = 2\n",
            "\t\n",
            "1 * 3 = 3\n",
            "\t\n",
            "1 * 4 = 4\n",
            "\t\n",
            "1 * 5 = 5\n",
            "\t\n",
            "1 * 6 = 6\n",
            "\t\n",
            "1 * 7 = 7\n",
            "\t\n",
            "1 * 8 = 8\n",
            "\t\n",
            "1 * 9 = 9\n",
            "\t\n",
            "1 * 10 = 10\n",
            "\t\n",
            "2 * 1 = 2\n",
            "\t\n",
            "2 * 2 = 4\n",
            "\t\n",
            "2 * 3 = 6\n",
            "\t\n",
            "2 * 4 = 8\n",
            "\t\n",
            "2 * 5 = 10\n",
            "\t\n",
            "2 * 6 = 12\n",
            "\t\n",
            "2 * 7 = 14\n",
            "\t\n",
            "2 * 8 = 16\n",
            "\t\n",
            "2 * 9 = 18\n",
            "\t\n",
            "2 * 10 = 20\n",
            "\t\n",
            "3 * 1 = 3\n",
            "\t\n",
            "3 * 2 = 6\n",
            "\t\n",
            "3 * 3 = 9\n",
            "\t\n",
            "3 * 4 = 12\n",
            "\t\n",
            "3 * 5 = 15\n",
            "\t\n",
            "3 * 6 = 18\n",
            "\t\n",
            "3 * 7 = 21\n",
            "\t\n",
            "3 * 8 = 24\n",
            "\t\n",
            "3 * 9 = 27\n",
            "\t\n",
            "3 * 10 = 30\n",
            "\t\n",
            "4 * 1 = 4\n",
            "\t\n",
            "4 * 2 = 8\n",
            "\t\n",
            "4 * 3 = 12\n",
            "\t\n",
            "4 * 4 = 16\n",
            "\t\n",
            "4 * 5 = 20\n",
            "\t\n",
            "4 * 6 = 24\n",
            "\t\n",
            "4 * 7 = 28\n",
            "\t\n",
            "4 * 8 = 32\n",
            "\t\n",
            "4 * 9 = 36\n",
            "\t\n",
            "4 * 10 = 40\n",
            "\t\n",
            "5 * 1 = 5\n",
            "\t\n",
            "5 * 2 = 10\n",
            "\t\n",
            "5 * 3 = 15\n",
            "\t\n",
            "5 * 4 = 20\n",
            "\t\n",
            "5 * 5 = 25\n",
            "\t\n",
            "5 * 6 = 30\n",
            "\t\n",
            "5 * 7 = 35\n",
            "\t\n",
            "5 * 8 = 40\n",
            "\t\n",
            "5 * 9 = 45\n",
            "\t\n",
            "5 * 10 = 50\n",
            "\t\n",
            "6 * 1 = 6\n",
            "\t\n",
            "6 * 2 = 12\n",
            "\t\n",
            "6 * 3 = 18\n",
            "\t\n",
            "6 * 4 = 24\n",
            "\t\n",
            "6 * 5 = 30\n",
            "\t\n",
            "6 * 6 = 36\n",
            "\t\n",
            "6 * 7 = 42\n",
            "\t\n",
            "6 * 8 = 48\n",
            "\t\n",
            "6 * 9 = 54\n",
            "\t\n",
            "6 * 10 = 60\n",
            "\t\n",
            "7 * 1 = 7\n",
            "\t\n",
            "7 * 2 = 14\n",
            "\t\n",
            "7 * 3 = 21\n",
            "\t\n",
            "7 * 4 = 28\n",
            "\t\n",
            "7 * 5 = 35\n",
            "\t\n",
            "7 * 6 = 42\n",
            "\t\n",
            "7 * 7 = 49\n",
            "\t\n",
            "7 * 8 = 56\n",
            "\t\n",
            "7 * 9 = 63\n",
            "\t\n",
            "7 * 10 = 70\n",
            "\t\n",
            "8 * 1 = 8\n",
            "\t\n",
            "8 * 2 = 16\n",
            "\t\n",
            "8 * 3 = 24\n",
            "\t\n",
            "8 * 4 = 32\n",
            "\t\n",
            "8 * 5 = 40\n",
            "\t\n",
            "8 * 6 = 48\n",
            "\t\n",
            "8 * 7 = 56\n",
            "\t\n",
            "8 * 8 = 64\n",
            "\t\n",
            "8 * 9 = 72\n",
            "\t\n",
            "8 * 10 = 80\n",
            "\t\n",
            "9 * 1 = 9\n",
            "\t\n",
            "9 * 2 = 18\n",
            "\t\n",
            "9 * 3 = 27\n",
            "\t\n",
            "9 * 4 = 36\n",
            "\t\n",
            "9 * 5 = 45\n",
            "\t\n",
            "9 * 6 = 54\n",
            "\t\n",
            "9 * 7 = 63\n",
            "\t\n",
            "9 * 8 = 72\n",
            "\t\n",
            "9 * 9 = 81\n",
            "\t\n",
            "9 * 10 = 90\n",
            "\t\n",
            "10 * 1 = 10\n",
            "\t\n",
            "10 * 2 = 20\n",
            "\t\n",
            "10 * 3 = 30\n",
            "\t\n",
            "10 * 4 = 40\n",
            "\t\n",
            "10 * 5 = 50\n",
            "\t\n",
            "10 * 6 = 60\n",
            "\t\n",
            "10 * 7 = 70\n",
            "\t\n",
            "10 * 8 = 80\n",
            "\t\n",
            "10 * 9 = 90\n",
            "\t\n",
            "10 * 10 = 100\n",
            "\t\n",
            "\n",
            "\n"
          ]
        }
      ]
    },
    {
      "cell_type": "markdown",
      "source": [
        "**Problem-8**<br>\n",
        "Print the series of first n fibonacci numbers"
      ],
      "metadata": {
        "id": "09Fwyn_ZhbDY"
      }
    },
    {
      "cell_type": "code",
      "source": [
        "# Your code goes here\n",
        "n=int(input('Enter how many elements you want to print in the Fibonacci Series\\n'))\n",
        "a = 0\n",
        "b = 1\n",
        "if n == 1:\n",
        "  print(a)\n",
        "else:\n",
        "  print(a)\n",
        "  print(b)\n",
        "  for i in range(2,n):\n",
        "    c = a + b\n",
        "    a = b\n",
        "    b = c\n",
        "    print(c)"
      ],
      "metadata": {
        "id": "mo2otdwfhi3J",
        "colab": {
          "base_uri": "https://localhost:8080/"
        },
        "outputId": "c9dd74bc-3ad7-46aa-c6c1-1544d34564fd"
      },
      "execution_count": 9,
      "outputs": [
        {
          "output_type": "stream",
          "name": "stdout",
          "text": [
            "Enter how many elements you want to print in the Fibonacci Series\n",
            "8\n",
            "0\n",
            "1\n",
            "1\n",
            "2\n",
            "3\n",
            "5\n",
            "8\n",
            "13\n"
          ]
        }
      ]
    }
  ]
}